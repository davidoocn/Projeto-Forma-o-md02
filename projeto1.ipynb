{
  "nbformat": 4,
  "nbformat_minor": 0,
  "metadata": {
    "colab": {
      "provenance": []
    },
    "kernelspec": {
      "name": "python3",
      "display_name": "Python 3"
    },
    "language_info": {
      "name": "python"
    }
  },
  "cells": [
    {
      "cell_type": "code",
      "execution_count": null,
      "metadata": {
        "id": "b9inFdIediAE"
      },
      "outputs": [],
      "source": [
        "jogador1 = input('->Digite o nome do primeiro jogador: ')\n",
        "jogador2 = input('->Digite o nome do segundo jogador: ')\n",
        "\n",
        "print(f'//Quem será o primeiro a jogar?')\n",
        "primeiro_jogador = input(f'-> Digite 1 para escolher {jogador1} ou 2 para escolher {jogador2}.')\n",
        "segundo_jogador = None\n",
        "\n",
        "if primeiro_jogador == '1':\n",
        "  primeiro_jogador = jogador1\n",
        "  segundo_jogador = jogador2\n",
        "elif primeiro_jogador == '2':\n",
        "  primeiro_jogador = jogador2\n",
        "  segundo_jogador = jogador1\n",
        "\n",
        "print(primeiro_jogador)\n",
        "\n",
        "print(f'Agora escolha 1 para PAR ou 2 para ÍMPAR e dar ínicio ao jogo')\n",
        "\n",
        "escolha = input(f'{primeiro_jogador} você quer PAR ou ÍMPAR?')\n",
        "escolha2 = None\n",
        "\n",
        "if escolha == 'ímpar' or escolha == 'impar' or escolha == '1':\n",
        "  escolha = 'ímpar'\n",
        "  escolha2 = 'par'\n",
        "elif escolha == 'par' or escolha == '0':\n",
        "  escolha = 'par'\n",
        "  escolha2 = 'ímpar'\n",
        "print(f'{primeiro_jogador} escolheu {escolha}')\n",
        "\n",
        "numero1 = int(input(f' {primeiro_jogador} escolha um número: '))\n",
        "numero2 = int(input(f' {segundo_jogador} escolha um número: '))\n",
        "soma = numero1 + numero2\n",
        "if soma % 2 == 0:\n",
        "  vencedor = 'par'\n",
        "else:\n",
        "  vencedor = 'impar'\n",
        "if vencedor == escolha:\n",
        "  print(f'{primeiro_jogador} venceu.')\n",
        "else:\n",
        "  print(f'{segundo_jogador} venceu')\n"
      ]
    }
  ]
}